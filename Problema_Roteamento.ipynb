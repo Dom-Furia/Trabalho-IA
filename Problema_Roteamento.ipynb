{
  "nbformat": 4,
  "nbformat_minor": 0,
  "metadata": {
    "colab": {
      "provenance": [],
      "include_colab_link": true
    },
    "kernelspec": {
      "name": "python3",
      "display_name": "Python 3"
    }
  },
  "cells": [
    {
      "cell_type": "markdown",
      "metadata": {
        "id": "view-in-github",
        "colab_type": "text"
      },
      "source": [
        "<a href=\"https://colab.research.google.com/github/Dom-Furia/Trabalho-IA/blob/main/Problema_Roteamento.ipynb\" target=\"_parent\"><img src=\"https://colab.research.google.com/assets/colab-badge.svg\" alt=\"Open In Colab\"/></a>"
      ]
    },
    {
      "cell_type": "markdown",
      "metadata": {
        "id": "r2ZZwVzmSD9w"
      },
      "source": [
        "# Algoritmos de Busca  - Problema de Roteamento \n",
        "\n",
        "\n",
        "\n",
        "---\n",
        "\n",
        "\n",
        "\n"
      ]
    },
    {
      "cell_type": "markdown",
      "metadata": {
        "id": "PgOWgXWsNWEr"
      },
      "source": [
        "## Classe Vertice\n",
        "\n",
        "  Na função construtor abaixo da classe Vertice, segue os parametros dos nomes das cidades(nome_cidade), e a distancia ao objetivo, sendo ela a \n",
        "  função da heurística para calcular o menor custo -> f(n) = g(n) + h(n)\n",
        "  \n",
        "  Uma vez que g(n) dá o custo do caminho desde o nó inicial até o nó n e h(n) é o custo estimado do\n",
        "  caminho de menor custo de n até o objetivo, sendo esse h(n) a distância em linha reta das cidades vizinhas do nó\n",
        "  atual até o objetivo e g(n) o custo da cidade atual até as cidades vizinhas. \n",
        "\n",
        "  f(n) = custo estimado da solução de menor custo através de n."
      ]
    },
    {
      "cell_type": "code",
      "metadata": {
        "id": "37JdH3P_R-pL"
      },
      "source": [
        "class Vertice:\n",
        "\n",
        "  def __init__(self, nome_cidade, distancia_objetivo):\n",
        "    self.nome_cidade = nome_cidade\n",
        "    self.visitado = False\n",
        "    self.distancia_objetivo = distancia_objetivo #Heurística do método\n",
        "    self.vizinhos = []\n",
        " \n",
        "  def adiciona_vizinho(self, vizinho):\n",
        "    self.vizinhos.append(vizinho)\n",
        "\n",
        "  def mostra_cidades_vizinhas(self):\n",
        "    for i in self.vizinhos:\n",
        "      print(i.vertice.nome_cidade, i.custo)\n",
        "\n",
        "  "
      ],
      "execution_count": null,
      "outputs": []
    },
    {
      "cell_type": "markdown",
      "source": [
        "##Classe Vizinho\n",
        "Classe das cidades vizinhas de cada nó (cidade), para verificação de um caminho com o menor custo"
      ],
      "metadata": {
        "id": "0pl1kY3sQ-Am"
      }
    },
    {
      "cell_type": "code",
      "metadata": {
        "id": "Hj4-etBV6eYP"
      },
      "source": [
        "class Vizinho:\n",
        "  def __init__(self, vertice, custo):\n",
        "    self.vertice = vertice\n",
        "    self.custo = custo #custo de sair da cidade atual para as cidades vizinhas\n",
        "    self.distancia_aestrela = vertice.distancia_objetivo + self.custo #O cálculo da função heurístic\n",
        "    "
      ],
      "execution_count": null,
      "outputs": []
    },
    {
      "cell_type": "markdown",
      "source": [
        "## Classe Grafo\n",
        "Nessa classe sera criado o grafo contendo as cidades e sua distancia entre a cidade origem que no caso é Cuiaba e demais ciadades, alem disso tbm é inserido a distancia das cidades vizinhas , distancia essa dado em linha reta da cidade objetivo. Nesse caso foi utilizado um total de 17 cidades aleatoria do Estado de Mato grosso."
      ],
      "metadata": {
        "id": "j6cM11ICROxN"
      }
    },
    {
      "cell_type": "code",
      "metadata": {
        "id": "42axhC-b6r-L"
      },
      "source": [
        "class Grafo:\n",
        "  RosarioOeste = Vertice(\"Rosario Oeste\", 91)\n",
        "  Jangada = Vertice('Jangada', 58)\n",
        "  BarraDoBugres = Vertice('Barra do Bugres', 132)\n",
        "  Pocone = Vertice('Poconé', 97)\n",
        "  Caceres = Vertice('Cáceres', 180)\n",
        "  VarzeaGrande = Vertice('Varzea Grande', 7)\n",
        "  Cuiaba = Vertice('Cuiabá', 0)\n",
        "  ChapadaGuimaraes = Vertice('Chapada dos Guimarães', 37)\n",
        "  Jaciara = Vertice('Jaciara', 126)\n",
        "  Rondonopolis = Vertice('Rondonópolis', 183)\n",
        "  Poxoreu = Vertice('Poxoréu', 184)\n",
        "  PrimaveraLeste = Vertice('Primavera do Leste', 190)\n",
        "  CampoVerde = Vertice('Campo Verde', 97)\n",
        "  PedraPetra = Vertice('Pedra Preta', 207)\n",
        "  PontesLacerda = Vertice('Pontes e Lacerda', 352)\n",
        "  TangaraSerra = Vertice('Tangará da Serra', 185)\n",
        "  Diamantino = Vertice('Diamantino', 135)\n",
        "\n",
        "  PontesLacerda.adiciona_vizinho(Vizinho(Caceres,230))\n",
        "\n",
        "  Caceres.adiciona_vizinho(Vizinho(BarraDoBugres, 152))\n",
        "  Caceres.adiciona_vizinho(Vizinho(Jangada, 264))\n",
        "  Caceres.adiciona_vizinho(Vizinho(VarzeaGrande, 211))\n",
        "  Caceres.adiciona_vizinho(Vizinho(Pocone, 182))\n",
        "  Caceres.adiciona_vizinho(Vizinho(PontesLacerda, 230))\n",
        "\n",
        "  BarraDoBugres.adiciona_vizinho(Vizinho(TangaraSerra, 77))\n",
        "  BarraDoBugres.adiciona_vizinho(Vizinho(Diamantino, 135))\n",
        "  BarraDoBugres.adiciona_vizinho(Vizinho(RosarioOeste, 125))\n",
        "  BarraDoBugres.adiciona_vizinho(Vizinho(Jangada, 90))\n",
        "  BarraDoBugres.adiciona_vizinho(Vizinho(Caceres, 152))\n",
        "\n",
        "  TangaraSerra.adiciona_vizinho(Vizinho(Diamantino, 156))\n",
        "  TangaraSerra.adiciona_vizinho(Vizinho(BarraDoBugres, 77))\n",
        "\n",
        "  Jangada.adiciona_vizinho(Vizinho(RosarioOeste, 50))\n",
        "  Jangada.adiciona_vizinho(Vizinho(Cuiaba, 82))\n",
        "  Jangada.adiciona_vizinho(Vizinho(VarzeaGrande, 67))\n",
        "  Jangada.adiciona_vizinho(Vizinho(BarraDoBugres, 90))\n",
        "\n",
        "  RosarioOeste.adiciona_vizinho(Vizinho(Diamantino, 80))\n",
        "  RosarioOeste.adiciona_vizinho(Vizinho(Cuiaba, 102))\n",
        "  RosarioOeste.adiciona_vizinho(Vizinho(BarraDoBugres, 125))\n",
        "  RosarioOeste.adiciona_vizinho(Vizinho(Jangada, 50))\n",
        "\n",
        "  Diamantino.adiciona_vizinho(Vizinho(TangaraSerra, 156))\n",
        "  Diamantino.adiciona_vizinho(Vizinho(BarraDoBugres, 135))\n",
        "  Diamantino.adiciona_vizinho(Vizinho(RosarioOeste, 80))\n",
        "  Diamantino.adiciona_vizinho(Vizinho(Cuiaba, 182))\n",
        "\n",
        "  Pocone.adiciona_vizinho(Vizinho(Caceres, 182))\n",
        "  Pocone.adiciona_vizinho(Vizinho(VarzeaGrande, 95))\n",
        "\n",
        "  VarzeaGrande.adiciona_vizinho(Vizinho(Pocone, 95))\n",
        "  VarzeaGrande.adiciona_vizinho(Vizinho(Caceres, 211))\n",
        "  VarzeaGrande.adiciona_vizinho(Vizinho(Jangada, 67))\n",
        "  VarzeaGrande.adiciona_vizinho(Vizinho(Cuiaba, 15))\n",
        "\n",
        "  Cuiaba.adiciona_vizinho(Vizinho(VarzeaGrande, 15))\n",
        "  Cuiaba.adiciona_vizinho(Vizinho(Jangada, 82))\n",
        "  Cuiaba.adiciona_vizinho(Vizinho(RosarioOeste, 102))\n",
        "  Cuiaba.adiciona_vizinho(Vizinho(Diamantino, 182))\n",
        "  Cuiaba.adiciona_vizinho(Vizinho(ChapadaGuimaraes, 64))\n",
        "  Cuiaba.adiciona_vizinho(Vizinho(Jaciara, 145))\n",
        "\n",
        "  ChapadaGuimaraes.adiciona_vizinho(Vizinho(Cuiaba, 64))\n",
        "  ChapadaGuimaraes.adiciona_vizinho(Vizinho(CampoVerde, 72))\n",
        "\n",
        "  CampoVerde.adiciona_vizinho(Vizinho(Jaciara, 72))\n",
        "  CampoVerde.adiciona_vizinho(Vizinho(Poxoreu, 127))\n",
        "  CampoVerde.adiciona_vizinho(Vizinho(PrimaveraLeste, 105))\n",
        "  CampoVerde.adiciona_vizinho(Vizinho(ChapadaGuimaraes, 72))\n",
        "\n",
        "  Jaciara.adiciona_vizinho(Vizinho(Cuiaba, 145))\n",
        "  Jaciara.adiciona_vizinho(Vizinho(CampoVerde, 72))\n",
        "  Jaciara.adiciona_vizinho(Vizinho(Poxoreu, 150))\n",
        "  Jaciara.adiciona_vizinho(Vizinho(PrimaveraLeste, 128))\n",
        "  Jaciara.adiciona_vizinho(Vizinho(Rondonopolis, 71))\n",
        "\n",
        "  Rondonopolis.adiciona_vizinho(Vizinho(Poxoreu, 85))\n",
        "  Rondonopolis.adiciona_vizinho(Vizinho(Jaciara, 71))\n",
        "  Rondonopolis.adiciona_vizinho(Vizinho(PedraPetra, 27))\n",
        "\n",
        "  PedraPetra.adiciona_vizinho(Vizinho(Rondonopolis, 27))\n",
        "  PedraPetra.adiciona_vizinho(Vizinho(Poxoreu, 115))\n",
        "\n",
        "  Poxoreu.adiciona_vizinho(Vizinho(Jaciara, 150))\n",
        "  Poxoreu.adiciona_vizinho(Vizinho(Rondonopolis, 85))\n",
        "  Poxoreu.adiciona_vizinho(Vizinho(PedraPetra, 115))\n",
        "  Poxoreu.adiciona_vizinho(Vizinho(PrimaveraLeste, 46))\n",
        "  Poxoreu.adiciona_vizinho(Vizinho(CampoVerde, 127))\n",
        "\n",
        "  PrimaveraLeste.adiciona_vizinho(Vizinho(CampoVerde, 105))\n",
        "  PrimaveraLeste.adiciona_vizinho(Vizinho(Poxoreu, 46))\n",
        "  PrimaveraLeste.adiciona_vizinho(Vizinho(Jaciara, 128))\n"
      ],
      "execution_count": null,
      "outputs": []
    },
    {
      "cell_type": "code",
      "metadata": {
        "id": "qBYjaInI-N4c"
      },
      "source": [
        "grafo = Grafo()"
      ],
      "execution_count": null,
      "outputs": []
    },
    {
      "cell_type": "markdown",
      "metadata": {
        "id": "aIjre2EzLXB0"
      },
      "source": [
        "## Vetor ordenado (vizinho)\n",
        "O vetor tem como base, deixar as cidades vizinhas de cada nó, ordenada de forma crescente dado seus resultados no cálculo da heurística"
      ]
    },
    {
      "cell_type": "code",
      "metadata": {
        "id": "bHnGlmCQLYoH"
      },
      "source": [
        "import numpy as np\n",
        "class VetorOrdenado:\n",
        "  \n",
        "  def __init__(self, capacidade):\n",
        "    self.capacidade = capacidade\n",
        "    self.ultima_posicao = -1\n",
        "    # Mudança no tipo de dados\n",
        "    self.valores = np.empty(self.capacidade, dtype=object)\n",
        "\n",
        "  # Referência para o vértice e comparação com a distância A*\n",
        "  def insere(self, vizinho):\n",
        "    if self.ultima_posicao == self.capacidade - 1:\n",
        "      print('Capacidade máxima atingida')\n",
        "      return\n",
        "    posicao = 0\n",
        "    for i in range(self.ultima_posicao + 1):\n",
        "      posicao = i\n",
        "      if self.valores[i].distancia_aestrela > vizinho.distancia_aestrela:\n",
        "        break\n",
        "      if i == self.ultima_posicao:\n",
        "        posicao = i + 1\n",
        "    x = self.ultima_posicao\n",
        "    while x >= posicao:\n",
        "      self.valores[x + 1] = self.valores[x]\n",
        "      x -= 1\n",
        "    self.valores[posicao] = vizinho\n",
        "    self.ultima_posicao += 1\n",
        "\n",
        "  def imprime(self):\n",
        "    if self.ultima_posicao == -1:\n",
        "      print('O vetor está vazio')\n",
        "    else:\n",
        "      for i in range(self.ultima_posicao + 1):\n",
        "        print(i, ' - ', self.valores[i].vertice.nome_cidade, ' - ', \n",
        "              self.valores[i].custo, ' - ', \n",
        "              self.valores[i].vertice.distancia_objetivo, ' - ',\n",
        "              self.valores[i].distancia_aestrela)  "
      ],
      "execution_count": null,
      "outputs": []
    },
    {
      "cell_type": "markdown",
      "metadata": {
        "id": "Lmvbw_KeNYvX"
      },
      "source": [
        "## Busca AEstrela\n",
        "Algoritmo de busca, procurando o melhor caminho com o menor custo até a cidade objetivo"
      ]
    },
    {
      "cell_type": "code",
      "metadata": {
        "id": "QyHEt5oUr8Dy"
      },
      "source": [
        "class AEstrela:\n",
        "  def __init__(self, objetivo):\n",
        "    self.objetivo = objetivo\n",
        "    self.encontrado = False\n",
        "\n",
        "  def buscar(self, atual):\n",
        "    print('----------')\n",
        "    print('Cidade Atual: {}'.format(atual.nome_cidade))\n",
        "    atual.visitado = True\n",
        "\n",
        "    if atual == self.objetivo:\n",
        "      self.encontrado = True\n",
        "      print('Chegou ao seu destino..')\n",
        "    else:\n",
        "      vetor_ordenado = VetorOrdenado(len(atual.vizinhos))\n",
        "      for visinho in atual.vizinhos:\n",
        "        if visinho.vertice.visitado == False:\n",
        "          vetor_ordenado.insere(visinho)\n",
        "      vetor_ordenado.imprime()\n",
        "\n",
        "      if vetor_ordenado.valores[0] != None:\n",
        "        self.buscar(vetor_ordenado.valores[0].vertice)"
      ],
      "execution_count": null,
      "outputs": []
    },
    {
      "cell_type": "markdown",
      "source": [
        "## Busca Local ou profundidade\n",
        " Essa estratégia começa em um nó inicial e explora um caminho até encontrar o objetivo ou até não haver mais vizinhos não visitados. A busca local não leva em consideração a distância até o objetivo ao escolher o próximo nó a visitar. "
      ],
      "metadata": {
        "id": "ngzpxbHRcazf"
      }
    },
    {
      "cell_type": "code",
      "source": [
        "class BuscaLocal:\n",
        "    def __init__(self, objetivo):\n",
        "        self.objetivo = objetivo\n",
        "        self.encontrado = False\n",
        "\n",
        "    def buscar(self, atual):\n",
        "        print('----------')\n",
        "        print('Cidade Atual: {}'.format(atual.nome_cidade))\n",
        "        print(atual.mostra_cidades_vizinhas())\n",
        "        atual.visitado = True\n",
        "\n",
        "        if atual == self.objetivo:\n",
        "            self.encontrado = True\n",
        "            print('Chegou ao seu destino..')\n",
        "        else:\n",
        "            vizinho_mais_proximo = self.obter_vizinho_mais_proximo(atual)\n",
        "            \n",
        "            if vizinho_mais_proximo is not None:\n",
        "                self.buscar(vizinho_mais_proximo.vertice)\n",
        "\n",
        "    def obter_vizinho_mais_proximo(self, vertice):\n",
        "        vizinho_mais_proximo = None\n",
        "        menor_distancia_objetivo = float('inf')\n",
        "\n",
        "        for vizinho in vertice.vizinhos:\n",
        "            if vizinho.vertice.visitado == False and vizinho.vertice.distancia_objetivo < menor_distancia_objetivo:\n",
        "                vizinho_mais_proximo = vizinho\n",
        "                menor_distancia_objetivo = vizinho.vertice.distancia_objetivo\n",
        "\n",
        "        return vizinho_mais_proximo\n"
      ],
      "metadata": {
        "id": "D0SKR79p20VQ"
      },
      "execution_count": null,
      "outputs": []
    },
    {
      "cell_type": "markdown",
      "source": [
        "## Busca Gulosa\n",
        " A busca gulosa prioriza os vizinhos mais próximos do objetivo com base em uma heurística específica."
      ],
      "metadata": {
        "id": "zrgwhNvtc4rx"
      }
    },
    {
      "cell_type": "code",
      "source": [
        "class BuscaGulosa:\n",
        "    def __init__(self, objetivo):\n",
        "        self.objetivo = objetivo\n",
        "        self.encontrado = False\n",
        "\n",
        "    def buscar(self, atual):\n",
        "        print('----------')\n",
        "        print('Cidade Atual: {}'.format(atual.nome_cidade))\n",
        "        print(atual.mostra_cidades_vizinhas())\n",
        "        atual.visitado = True\n",
        "\n",
        "        if atual == self.objetivo:\n",
        "            self.encontrado = True\n",
        "            print('Chegou ao seu destino..')\n",
        "        else:\n",
        "            vizinho_mais_proximo = self.obter_vizinho_mais_proximo(atual)\n",
        "\n",
        "            if vizinho_mais_proximo is not None:\n",
        "                self.buscar(vizinho_mais_proximo.vertice)\n",
        "\n",
        "    def obter_vizinho_mais_proximo(self, vertice):\n",
        "        vizinho_mais_proximo = None\n",
        "        menor_distancia_objetivo = float('inf')\n",
        "\n",
        "        for vizinho in vertice.vizinhos:\n",
        "            if (\n",
        "                not vizinho.vertice.visitado\n",
        "                and vizinho.vertice.distancia_objetivo < menor_distancia_objetivo\n",
        "            ):\n",
        "                vizinho_mais_proximo = vizinho\n",
        "                menor_distancia_objetivo = vizinho.vertice.distancia_objetivo\n",
        "\n",
        "        return vizinho_mais_proximo\n"
      ],
      "metadata": {
        "id": "jTTQna7E8qFc"
      },
      "execution_count": null,
      "outputs": []
    },
    {
      "cell_type": "markdown",
      "source": [
        "As funções abaixo determina a cidade objetivo e a cidade atual e inicia a busca"
      ],
      "metadata": {
        "id": "X8IHFOgeR_NL"
      }
    },
    {
      "cell_type": "code",
      "source": [
        "busca_aestrela = AEstrela(grafo.Cuiaba)\n",
        "busca_aestrela.buscar(grafo.TangaraSerra)"
      ],
      "metadata": {
        "id": "-6o3I5USEqF2"
      },
      "execution_count": null,
      "outputs": []
    },
    {
      "cell_type": "markdown",
      "source": [
        "**Para executar a duas funções abaixo não deve executar a classe VetorOrdenado, para não haver alterações no grafo. Essa classe so deve ser executada apenas na execução da busca A*** "
      ],
      "metadata": {
        "id": "abGup8L5d-Y5"
      }
    },
    {
      "cell_type": "code",
      "source": [
        "busca_local = BuscaLocal(grafo.Cuiaba)\n",
        "busca_local.buscar(grafo.TangaraSerra)"
      ],
      "metadata": {
        "id": "AANC4I_z3GBm"
      },
      "execution_count": null,
      "outputs": []
    },
    {
      "cell_type": "code",
      "source": [
        "buscaGulosa = BuscaGulosa(grafo.Cuiaba)\n",
        "buscaGulosa.buscar(grafo.TangaraSerra)"
      ],
      "metadata": {
        "id": "qlyN3AkuYGBo"
      },
      "execution_count": null,
      "outputs": []
    }
  ]
}